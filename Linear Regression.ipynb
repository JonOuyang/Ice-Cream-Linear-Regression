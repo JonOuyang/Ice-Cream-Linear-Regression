{
 "cells": [
  {
   "cell_type": "code",
   "execution_count": 31,
   "id": "a1b3b793",
   "metadata": {},
   "outputs": [],
   "source": [
    "import pandas as pd\n",
    "import numpy as np\n",
    "import tensorflow as tf\n",
    "from tensorflow import keras\n",
    "from tensorflow.keras import layers, regularizers, optimizers\n",
    "from tensorflow.keras.layers import Input, Conv2D, ReLU, BatchNormalization,\\\n",
    "                                    Add, AveragePooling2D, MaxPooling2D, Flatten, Dense, Dropout\n",
    "from tensorflow.keras.regularizers import l1, l2\n",
    "from tensorflow.keras.models import Model\n",
    "from tensorflow.keras.callbacks import ReduceLROnPlateau\n",
    "from tensorflow.keras.callbacks import Callback\n",
    "from tensorflow import Tensor\n",
    "from tensorflow.keras.optimizers import Adam\n",
    "from tensorflow.keras.preprocessing.image import ImageDataGenerator"
   ]
  },
  {
   "cell_type": "code",
   "execution_count": 110,
   "id": "da95bbdb",
   "metadata": {},
   "outputs": [
    {
     "name": "stdout",
     "output_type": "stream",
     "text": [
      "     Temperature  Ice Cream Profits\n",
      "0             39              13.17\n",
      "1             40              11.88\n",
      "2             41              18.82\n",
      "3             42              18.65\n",
      "4             43              17.02\n",
      "..           ...                ...\n",
      "360           99              85.13\n",
      "361           99              87.08\n",
      "362           99              89.29\n",
      "363          101              81.91\n",
      "364          101              85.02\n",
      "\n",
      "[365 rows x 2 columns]\n"
     ]
    }
   ],
   "source": [
    "data = pd.read_csv('Ice Cream Sales - temperatures.csv')\n",
    "print(data)"
   ]
  },
  {
   "cell_type": "code",
   "execution_count": 24,
   "id": "ccd790cb",
   "metadata": {},
   "outputs": [
    {
     "name": "stdout",
     "output_type": "stream",
     "text": [
      "Data loaded properly: True; Length of training data: 365\n"
     ]
    }
   ],
   "source": [
    "x_train = np.array(data['Temperature'])\n",
    "y_train = np.array(data['Ice Cream Profits'])\n",
    "#print(x_train[:3], y_train[:3])\n",
    "try: print(f'Data loaded properly: {len(x_train) == len(y_train)}; Length of training data: {len(x_train)}')\n",
    "except: print('Error loading data')"
   ]
  },
  {
   "cell_type": "code",
   "execution_count": 25,
   "id": "e2d800d8",
   "metadata": {},
   "outputs": [],
   "source": [
    "def unison_shuffled_copies(a, b):\n",
    "    assert len(a) == len(b)\n",
    "    p = np.random.permutation(len(a))\n",
    "    return a[p], b[p]\n",
    "x_train, y_train = unison_shuffled_copies(x_train, y_train)"
   ]
  },
  {
   "cell_type": "code",
   "execution_count": null,
   "id": "434b4aa8",
   "metadata": {
    "scrolled": true
   },
   "outputs": [
    {
     "name": "stdout",
     "output_type": "stream",
     "text": [
      "Epoch 1/200\n",
      "292/292 [==============================] - 1s 2ms/step - loss: 798.4301 - mean_squared_error: 798.4301 - val_loss: 88.1327 - val_mean_squared_error: 88.1327\n",
      "Epoch 2/200\n",
      "292/292 [==============================] - 0s 1ms/step - loss: 49.3032 - mean_squared_error: 49.3032 - val_loss: 47.2030 - val_mean_squared_error: 47.2030\n",
      "Epoch 3/200\n",
      "292/292 [==============================] - 0s 1ms/step - loss: 43.6809 - mean_squared_error: 43.6809 - val_loss: 47.0817 - val_mean_squared_error: 47.0817\n",
      "Epoch 4/200\n",
      "292/292 [==============================] - 0s 1ms/step - loss: 43.7926 - mean_squared_error: 43.7926 - val_loss: 46.9696 - val_mean_squared_error: 46.9696\n",
      "Epoch 5/200\n",
      "292/292 [==============================] - 0s 1ms/step - loss: 43.2426 - mean_squared_error: 43.2426 - val_loss: 47.2208 - val_mean_squared_error: 47.2208\n",
      "Epoch 6/200\n",
      "292/292 [==============================] - 0s 927us/step - loss: 43.2378 - mean_squared_error: 43.2378 - val_loss: 46.5785 - val_mean_squared_error: 46.5785\n",
      "Epoch 7/200\n",
      "292/292 [==============================] - 0s 939us/step - loss: 43.2435 - mean_squared_error: 43.2435 - val_loss: 46.6103 - val_mean_squared_error: 46.6103\n",
      "Epoch 8/200\n",
      "292/292 [==============================] - 0s 926us/step - loss: 42.7779 - mean_squared_error: 42.7779 - val_loss: 47.5176 - val_mean_squared_error: 47.5176\n",
      "Epoch 9/200\n",
      "292/292 [==============================] - 0s 913us/step - loss: 43.6921 - mean_squared_error: 43.6921 - val_loss: 45.9758 - val_mean_squared_error: 45.9758\n",
      "Epoch 10/200\n",
      "292/292 [==============================] - 0s 919us/step - loss: 43.5001 - mean_squared_error: 43.5001 - val_loss: 46.3858 - val_mean_squared_error: 46.3858\n",
      "Epoch 11/200\n",
      "292/292 [==============================] - 0s 1ms/step - loss: 42.3432 - mean_squared_error: 42.3432 - val_loss: 46.2726 - val_mean_squared_error: 46.2726\n",
      "Epoch 12/200\n",
      "292/292 [==============================] - 0s 1ms/step - loss: 41.7405 - mean_squared_error: 41.7405 - val_loss: 47.7661 - val_mean_squared_error: 47.7661\n",
      "Epoch 13/200\n",
      "292/292 [==============================] - 0s 1ms/step - loss: 41.5271 - mean_squared_error: 41.5271 - val_loss: 44.9133 - val_mean_squared_error: 44.9133\n",
      "Epoch 14/200\n",
      "292/292 [==============================] - 0s 1ms/step - loss: 41.6951 - mean_squared_error: 41.6951 - val_loss: 45.0912 - val_mean_squared_error: 45.0912\n",
      "Epoch 15/200\n",
      "292/292 [==============================] - 0s 1ms/step - loss: 40.9699 - mean_squared_error: 40.9699 - val_loss: 47.4330 - val_mean_squared_error: 47.4330\n",
      "Epoch 16/200\n",
      "292/292 [==============================] - 0s 1ms/step - loss: 41.4923 - mean_squared_error: 41.4923 - val_loss: 44.0525 - val_mean_squared_error: 44.0525\n",
      "Epoch 17/200\n",
      "292/292 [==============================] - 0s 1ms/step - loss: 40.9831 - mean_squared_error: 40.9831 - val_loss: 43.8538 - val_mean_squared_error: 43.8538\n",
      "Epoch 18/200\n",
      "292/292 [==============================] - 0s 1ms/step - loss: 40.8738 - mean_squared_error: 40.8738 - val_loss: 43.5190 - val_mean_squared_error: 43.5190\n",
      "Epoch 19/200\n",
      "292/292 [==============================] - 0s 915us/step - loss: 40.3315 - mean_squared_error: 40.3315 - val_loss: 43.7026 - val_mean_squared_error: 43.7026\n",
      "Epoch 20/200\n",
      "292/292 [==============================] - 0s 926us/step - loss: 40.0551 - mean_squared_error: 40.0551 - val_loss: 43.2939 - val_mean_squared_error: 43.2939\n",
      "Epoch 21/200\n",
      "292/292 [==============================] - 0s 925us/step - loss: 40.1343 - mean_squared_error: 40.1343 - val_loss: 43.1442 - val_mean_squared_error: 43.1442\n",
      "Epoch 22/200\n",
      "292/292 [==============================] - 0s 945us/step - loss: 39.4981 - mean_squared_error: 39.4981 - val_loss: 46.1299 - val_mean_squared_error: 46.1299\n",
      "Epoch 23/200\n",
      "292/292 [==============================] - 0s 924us/step - loss: 39.4991 - mean_squared_error: 39.4991 - val_loss: 42.8702 - val_mean_squared_error: 42.8702\n",
      "Epoch 24/200\n",
      "292/292 [==============================] - 0s 924us/step - loss: 39.2142 - mean_squared_error: 39.2142 - val_loss: 43.3544 - val_mean_squared_error: 43.3544\n",
      "Epoch 25/200\n",
      "292/292 [==============================] - 0s 1ms/step - loss: 39.4645 - mean_squared_error: 39.4645 - val_loss: 41.9431 - val_mean_squared_error: 41.9431\n",
      "Epoch 26/200\n",
      "292/292 [==============================] - 0s 1ms/step - loss: 38.5810 - mean_squared_error: 38.5810 - val_loss: 43.3004 - val_mean_squared_error: 43.3004\n",
      "Epoch 27/200\n",
      "292/292 [==============================] - 0s 1ms/step - loss: 38.0334 - mean_squared_error: 38.0334 - val_loss: 41.6068 - val_mean_squared_error: 41.6068\n",
      "Epoch 28/200\n",
      "292/292 [==============================] - 0s 1ms/step - loss: 38.5294 - mean_squared_error: 38.5294 - val_loss: 42.3692 - val_mean_squared_error: 42.3692\n",
      "Epoch 29/200\n",
      "292/292 [==============================] - 0s 1ms/step - loss: 37.6306 - mean_squared_error: 37.6306 - val_loss: 41.8863 - val_mean_squared_error: 41.8863\n",
      "Epoch 30/200\n",
      "292/292 [==============================] - 0s 1ms/step - loss: 37.6033 - mean_squared_error: 37.6033 - val_loss: 41.2185 - val_mean_squared_error: 41.2185\n",
      "Epoch 31/200\n",
      "292/292 [==============================] - 0s 1ms/step - loss: 37.1817 - mean_squared_error: 37.1817 - val_loss: 39.9150 - val_mean_squared_error: 39.9150\n",
      "Epoch 32/200\n",
      "292/292 [==============================] - 0s 1ms/step - loss: 37.1243 - mean_squared_error: 37.1243 - val_loss: 41.8013 - val_mean_squared_error: 41.8013\n",
      "Epoch 33/200\n",
      "292/292 [==============================] - 0s 1ms/step - loss: 37.2429 - mean_squared_error: 37.2429 - val_loss: 39.3548 - val_mean_squared_error: 39.3548\n",
      "Epoch 34/200\n",
      "281/292 [===========================>..] - ETA: 0s - loss: 36.8454 - mean_squared_error: 36.8454"
     ]
    }
   ],
   "source": [
    "model = keras.Sequential([\n",
    "    layers.Dense(3, activation='linear'),\n",
    "    layers.Dense(1, activation='linear'),\n",
    "])\n",
    "\n",
    "batch_size = 1\n",
    "model = build_model()\n",
    "model.compile(loss=\"mean_squared_error\", optimizer = 'adam', metrics=[\"mean_squared_error\"])\n",
    "model.fit(\n",
    "    x_train, \n",
    "    y_train,\n",
    "    batch_size = batch_size,\n",
    "    epochs = 200,\n",
    "    validation_split = 0.2)\n",
    "model.save('model.h5')\n",
    "\n",
    "train();"
   ]
  },
  {
   "cell_type": "code",
   "execution_count": 112,
   "id": "fd3fa7d7",
   "metadata": {},
   "outputs": [
    {
     "name": "stdout",
     "output_type": "stream",
     "text": [
      "[[84.20937 ]\n",
      " [14.405119]]\n"
     ]
    }
   ],
   "source": [
    "y_test = np.array([100, 40])\n",
    "print(model.predict(y_test))"
   ]
  }
 ],
 "metadata": {
  "kernelspec": {
   "display_name": "Python (GPU)",
   "language": "python",
   "name": "tf-gpu"
  },
  "language_info": {
   "codemirror_mode": {
    "name": "ipython",
    "version": 3
   },
   "file_extension": ".py",
   "mimetype": "text/x-python",
   "name": "python",
   "nbconvert_exporter": "python",
   "pygments_lexer": "ipython3",
   "version": "3.9.16"
  }
 },
 "nbformat": 4,
 "nbformat_minor": 5
}
